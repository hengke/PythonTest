{
 "cells": [
  {
   "cell_type": "code",
   "execution_count": 1,
   "metadata": {},
   "outputs": [],
   "source": [
    "import urllib.request\n",
    "import re\n",
    "import ssl\n",
    "\n",
    "context = ssl._create_unverified_context()\n",
    "\n",
    "url = \"http://www.kanshuge.co/files/article/html/131/131811/\"\n",
    "url1 = url + \"index.html\"\n",
    "html = urllib.request.urlopen(url1, context = context)\n",
    "data = html.read()\n",
    "data = data.decode(encoding=\"gbk\")"
   ]
  },
  {
   "cell_type": "code",
   "execution_count": 3,
   "metadata": {},
   "outputs": [],
   "source": [
    "result = re.search(r\"<div class=\\\"btitle\\\">.*?<h1>(.*?)</h1>.*?<em>(.*?)</em>.*?</div>\", data, re.S)\n",
    "title = result.group(1)\n",
    "anthor = result.group(2)\n",
    "print(title + \"：开始下载\")"
   ]
  },
  {
   "cell_type": "code",
   "execution_count": 5,
   "metadata": {},
   "outputs": [],
   "source": [
    "results = re.findall(r\"<dd><a href=\\\"(.*?)\\\">(.*?)</a></dd>\", data, re.S)"
   ]
  },
  {
   "cell_type": "code",
   "execution_count": 7,
   "metadata": {},
   "outputs": [],
   "source": [
    "file = open(\"《\" + title + \"》\" + anthor + \".txt\", \"w\", 1)"
   ]
  },
  {
   "cell_type": "code",
   "execution_count": 14,
   "metadata": {},
   "outputs": [],
   "source": [
    "for result in results:\n",
    "    url1 = url + result[0]\n",
    "    html = urllib.request.urlopen(url1, context = context)\n",
    "    data = html.read()\n",
    "    data = data.decode(encoding=\"gbk\")\n",
    "    results1 = re.findall(r\"(?:&nbsp;)+(.*?)<\", data, re.S)\n",
    "    for line in results1:\n",
    "        file.write(line)\n",
    "        file.write(\"\\r\\n\")\n",
    "        pass\n",
    "    print(result[1] + \"：下载完成！\")\n",
    "    pass\n",
    "file.close()\n",
    "print(result[1] + \"：下载完成！\")"
   ]
  },
  {
   "cell_type": "code",
   "execution_count": null,
   "metadata": {},
   "outputs": [],
   "source": []
  }
 ],
 "metadata": {
  "kernelspec": {
   "display_name": "Python 3",
   "language": "python",
   "name": "python3"
  },
  "language_info": {
   "codemirror_mode": {
    "name": "ipython",
    "version": 3
   },
   "file_extension": ".py",
   "mimetype": "text/x-python",
   "name": "python",
   "nbconvert_exporter": "python",
   "pygments_lexer": "ipython3",
   "version": "3.7.1"
  }
 },
 "nbformat": 4,
 "nbformat_minor": 2
}
