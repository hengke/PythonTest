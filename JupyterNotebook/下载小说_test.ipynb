{
 "cells": [
  {
   "cell_type": "code",
   "execution_count": null,
   "metadata": {},
   "outputs": [],
   "source": [
    "import re\n",
    "import os\n",
    "\n",
    "chapter = [\"4874052.html\", \"正文 第一百六十三章 阴谋阳谋\"]\n",
    "htmlsavepath = \"D:\\MyHome\\Documents\\我的小说\\位面交易之超级公司\"\n",
    "\n",
    "htmlfile = open(os.path.join(htmlsavepath,  chapter[0]), \"r\", encoding='utf-8')\n",
    "data = htmlfile.read()\n",
    "htmlfile.close\n",
    "\n",
    "lines = re.findall(r\"(?:&nbsp;)+(.*?)<\", data, re.S)"
   ]
  },
  {
   "cell_type": "code",
   "execution_count": null,
   "metadata": {},
   "outputs": [],
   "source": [
    "lines"
   ]
  },
  {
   "cell_type": "code",
   "execution_count": null,
   "metadata": {},
   "outputs": [],
   "source": [
    "if len(lines) == 0 or not re.search(r\"第(.*?)章<\", lines[0], re.S):\n",
    "    print(chapter[1].replace(\"正文 \", \"\"))\n",
    "    print(\"\\r\\n\")\n",
    "    for line in lines:\n",
    "        print(line)\n",
    "        print(\"\\r\\n\")\n",
    "else:\n",
    "    for i in range(1, len(lines)):\n",
    "        print(lines[i])\n",
    "        print(\"\\r\\n\")\n",
    "\n",
    "print(chapter[0], chapter[1])"
   ]
  },
  {
   "cell_type": "code",
   "execution_count": null,
   "metadata": {},
   "outputs": [],
   "source": []
  }
 ],
 "metadata": {
  "kernelspec": {
   "display_name": "Python 3",
   "language": "python",
   "name": "python3"
  },
  "language_info": {
   "codemirror_mode": {
    "name": "ipython",
    "version": 3
   },
   "file_extension": ".py",
   "mimetype": "text/x-python",
   "name": "python",
   "nbconvert_exporter": "python",
   "pygments_lexer": "ipython3",
   "version": "3.7.1"
  }
 },
 "nbformat": 4,
 "nbformat_minor": 2
}
