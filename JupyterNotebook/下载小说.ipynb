{
 "cells": [
  {
   "cell_type": "code",
   "execution_count": 7,
   "metadata": {},
   "outputs": [],
   "source": [
    "import urllib.request\n",
    "import re\n",
    "import ssl\n",
    "import os"
   ]
  },
  {
   "cell_type": "code",
   "execution_count": 16,
   "metadata": {},
   "outputs": [],
   "source": [
    "url0 = \"http://www.kanshuge.co/files/article/html/14/14930/\"\n",
    "if url0.find(\"index.html\") > 0:\n",
    "    url = url0.replace(\"index.html\",\"\")\n",
    "    url1 = url0\n",
    "    pass\n",
    "else:\n",
    "    url = url0\n",
    "    url1 = url + \"index.html\"\n",
    "    pass"
   ]
  },
  {
   "cell_type": "code",
   "execution_count": null,
   "metadata": {},
   "outputs": [],
   "source": [
    "context = ssl._create_unverified_context()\n",
    "html = urllib.request.urlopen(url1, context = context)\n",
    "data = html.read()\n",
    "data = data.decode(encoding=\"gbk\")"
   ]
  },
  {
   "cell_type": "code",
   "execution_count": null,
   "metadata": {},
   "outputs": [],
   "source": [
    "result = re.search(r\"<div class=\\\"btitle\\\">.*?<h1>(.*?)</h1>.*?<em>(.*?)</em>.*?</div>\", data, re.S)\n",
    "title = result.group(1)\n",
    "anthor = result.group(2)\n",
    "print(title + \"：开始下载\")\n",
    "\n",
    "htmlsavepath = os.path.join(savepath, title)\n",
    "\n",
    "if  not os.path.exists(htmlsavepath) :\n",
    "    os.makedirs(htmlsavepath)\n",
    "\n",
    "results = re.findall(r\"<dd><a href=\\\"(.*?)\\\">(.*?)</a></dd>\", data, re.S)"
   ]
  },
  {
   "cell_type": "code",
   "execution_count": null,
   "metadata": {},
   "outputs": [],
   "source": [
    "for result in results:\n",
    "    url1 = url + result[0]\n",
    "    html = urllib.request.urlopen(url1, context = context)\n",
    "    data = html.read()\n",
    "    data = data.decode(encoding=\"gbk\")\n",
    "    htmlfile = open(os.path.join(htmlsavepath,  result[0]), \"w\", 1)\n",
    "    htmlfile.write(data)\n",
    "    htmlfile.close\n",
    "    print(result[1] + \"：下载完成！\")\n",
    "    pass"
   ]
  },
  {
   "cell_type": "code",
   "execution_count": null,
   "metadata": {},
   "outputs": [],
   "source": [
    "file = open(os.path.join(savepath,\"《\" + title + \"》\" + anthor + \".txt\"), \"w\", 1)\n",
    "\n",
    "for result in results:\n",
    "    htmlfile = open(os.path.join(htmlsavepath,  result[0]), \"r\")\n",
    "    data = htmlfile.read()\n",
    "    htmlfile.close\n",
    "    results1 = re.findall(r\"(?:&nbsp;)+(.*?)<\", data, re.S)\n",
    "    for line in results1:\n",
    "        file.write(line)\n",
    "        file.write(\"\\r\\n\")\n",
    "        pass\n",
    "    print(result[1] + \"：完成！\")\n",
    "    pass\n",
    "file.close()\n",
    "print(title + \"：下载完成！\")"
   ]
  },
  {
   "cell_type": "code",
   "execution_count": null,
   "metadata": {},
   "outputs": [],
   "source": []
  }
 ],
 "metadata": {
  "kernelspec": {
   "display_name": "Python 3",
   "language": "python",
   "name": "python3"
  },
  "language_info": {
   "codemirror_mode": {
    "name": "ipython",
    "version": 3
   },
   "file_extension": ".py",
   "mimetype": "text/x-python",
   "name": "python",
   "nbconvert_exporter": "python",
   "pygments_lexer": "ipython3",
   "version": "3.7.1"
  }
 },
 "nbformat": 4,
 "nbformat_minor": 2
}
