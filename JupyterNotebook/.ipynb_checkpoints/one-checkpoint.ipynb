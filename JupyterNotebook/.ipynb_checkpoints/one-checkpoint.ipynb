{
 "cells": [
  {
   "cell_type": "markdown",
   "metadata": {},
   "source": [
    "字符串"
   ]
  },
  {
   "cell_type": "code",
   "execution_count": null,
   "metadata": {},
   "outputs": [],
   "source": []
  },
  {
   "cell_type": "code",
   "execution_count": 1,
   "metadata": {},
   "outputs": [
    {
     "name": "stdout",
     "output_type": "stream",
     "text": [
      "王小华今年13岁，体重42.6kg。\n",
      "王小华今年13岁，体重42.0kg。\n"
     ]
    }
   ],
   "source": [
    "s = \"王小华今年%d岁，体重%.1fkg。\"\n",
    "print(s%(13,42.6))\n",
    "print(s%(13.2,42))#自动按类型取舍"
   ]
  },
  {
   "cell_type": "code",
   "execution_count": 46,
   "metadata": {
    "scrolled": true
   },
   "outputs": [
    {
     "name": "stdout",
     "output_type": "stream",
     "text": [
      "我想到操场跑10圈\n"
     ]
    }
   ],
   "source": [
    "print(\"我想到操场跑%d圈\"%10)"
   ]
  },
  {
   "cell_type": "markdown",
   "metadata": {},
   "source": [
    "join方法，将列表连接成一个字符串"
   ]
  },
  {
   "cell_type": "code",
   "execution_count": 49,
   "metadata": {},
   "outputs": [
    {
     "name": "stdout",
     "output_type": "stream",
     "text": [
      "隔壁#阿姨#送我#一朵花\n",
      "隔壁阿姨送我一朵花\n"
     ]
    }
   ],
   "source": [
    "print(\"#\".join([\"隔壁\",\"阿姨\",\"送我\",\"一朵花\"]))\n",
    "print(\"\".join([\"隔壁\",\"阿姨\",\"送我\",\"一朵花\"]))"
   ]
  },
  {
   "cell_type": "markdown",
   "metadata": {},
   "source": [
    "索引"
   ]
  },
  {
   "cell_type": "code",
   "execution_count": 6,
   "metadata": {
    "scrolled": false
   },
   "outputs": [
    {
     "name": "stdout",
     "output_type": "stream",
     "text": [
      "a h\n",
      "b\n"
     ]
    }
   ],
   "source": [
    "a = \"abcdefgh\"\n",
    "print(a[0],a[-1])\n",
    "print(a[1:2])"
   ]
  },
  {
   "cell_type": "markdown",
   "metadata": {},
   "source": [
    "切片，增加步长"
   ]
  },
  {
   "cell_type": "code",
   "execution_count": 19,
   "metadata": {
    "scrolled": true
   },
   "outputs": [
    {
     "name": "stdout",
     "output_type": "stream",
     "text": [
      "0\n",
      "0\n",
      "03\n",
      "0369\n"
     ]
    }
   ],
   "source": [
    "a = \"0123456789\"\n",
    "print(a[0:1:3])\n",
    "print(a[0:3:3])\n",
    "print(a[0:4:3])\n",
    "print(a[0:10:3])"
   ]
  },
  {
   "cell_type": "code",
   "execution_count": 4,
   "metadata": {},
   "outputs": [
    {
     "name": "stdout",
     "output_type": "stream",
     "text": [
      "====成员资格====\n",
      "True\n",
      "False\n"
     ]
    }
   ],
   "source": [
    "print(\"====成员资格====\")\n",
    "str = [\"jidong\",\"youtian\",\"tangshan\"]\n",
    "print(\"jidong\" in str)\n",
    "print(\"tanghai\" in str)"
   ]
  },
  {
   "cell_type": "markdown",
   "metadata": {},
   "source": [
    "函数"
   ]
  },
  {
   "cell_type": "code",
   "execution_count": 20,
   "metadata": {},
   "outputs": [
    {
     "name": "stdout",
     "output_type": "stream",
     "text": [
      "-1\n"
     ]
    }
   ],
   "source": [
    "# Funtion\n",
    "# defind a compare function\n",
    "def cmp(x,y):\n",
    "    if x > y:\n",
    "        return -1\n",
    "    elif x < y:\n",
    "        return 1\n",
    "    else:\n",
    "        return 0\n",
    "\n",
    "print(cmp(2,1))"
   ]
  },
  {
   "cell_type": "markdown",
   "metadata": {},
   "source": [
    "循环"
   ]
  },
  {
   "cell_type": "code",
   "execution_count": 37,
   "metadata": {},
   "outputs": [
    {
     "name": "stdout",
     "output_type": "stream",
     "text": [
      "beijing\n",
      "shanghai\n",
      "tangshan\n"
     ]
    }
   ],
   "source": [
    "str = [\"beijing\",\"shanghai\",\"tangshan\"]\n",
    "for i in str:\n",
    "    print(i)"
   ]
  },
  {
   "cell_type": "markdown",
   "metadata": {},
   "source": [
    "字典：键值对的可变容器\n",
    "key = value"
   ]
  },
  {
   "cell_type": "code",
   "execution_count": 33,
   "metadata": {},
   "outputs": [
    {
     "name": "stdout",
     "output_type": "stream",
     "text": [
      "{'one': 'this is one'}\n",
      "{'one': 'this is one', 2: 'tangshan'}\n",
      "{'one': 'this is one', 2: 'tangshan', 'nan': 'zhangyxing'}\n",
      "dict_keys(['one', 2, 'nan'])\n",
      "dict_values(['this is one', 'tangshan', 'zhangyxing'])\n",
      "dict_items([('one', 'this is one'), (2, 'tangshan'), ('nan', 'zhangyxing')])\n",
      "zhangyxing\n",
      "tangshan\n",
      "beijing\n",
      "{'one': 'this is one', 'nan': 'zhangyxing'}\n",
      "{}\n"
     ]
    }
   ],
   "source": [
    "dict = {}\n",
    "dict[\"one\"] = \"this is one\"\n",
    "print(dict)\n",
    "dict[2] = \"tangshan\"\n",
    "print(dict)\n",
    "dict[\"nan\"] = \"zhangyxing\"\n",
    "print(dict)\n",
    "#print all keys\n",
    "print(dict.keys())\n",
    "#print all value\n",
    "print(dict.values())\n",
    "#print all \n",
    "print(dict.items())\n",
    "print(dict[\"nan\"])\n",
    "print(dict[2])\n",
    "dict[2] = \"beijing\"\n",
    "print(dict[2])\n",
    "del dict[2]\n",
    "print(dict)\n",
    "dict.clear()\n",
    "print(dict)"
   ]
  },
  {
   "cell_type": "code",
   "execution_count": 34,
   "metadata": {},
   "outputs": [
    {
     "name": "stdout",
     "output_type": "stream",
     "text": [
      "{'0119': {'name': 'mayun', 'sex': 'man', 'age': '18'}, '0124': {'name': 'lili', 'sex': 'famle', 'age': '19'}}\n"
     ]
    }
   ],
   "source": [
    "xuesheng = {\n",
    "    \"0119\":{\n",
    "        \"name\":\"mayun\",\n",
    "        \"sex\":\"man\",\n",
    "        \"age\":\"18\",\n",
    "    },\n",
    "    \"0124\":{\n",
    "        \"name\":\"lili\",\n",
    "        \"sex\":\"famle\",\n",
    "        \"age\":\"19\",\n",
    "    },\n",
    "}\n",
    "print(xuesheng)"
   ]
  },
  {
   "cell_type": "code",
   "execution_count": 36,
   "metadata": {},
   "outputs": [
    {
     "name": "stdout",
     "output_type": "stream",
     "text": [
      "{'name': 'mayun', 'sex': 'man', 'age': '18'}\n"
     ]
    }
   ],
   "source": [
    "print(xuesheng[\"0119\"])"
   ]
  },
  {
   "cell_type": "code",
   "execution_count": 38,
   "metadata": {},
   "outputs": [
    {
     "name": "stdout",
     "output_type": "stream",
     "text": [
      "mayun\n"
     ]
    }
   ],
   "source": [
    "print(xuesheng[\"0119\"][\"name\"])"
   ]
  },
  {
   "cell_type": "markdown",
   "metadata": {},
   "source": [
    "网络"
   ]
  },
  {
   "cell_type": "code",
   "execution_count": 61,
   "metadata": {},
   "outputs": [],
   "source": [
    "import urllib.request"
   ]
  },
  {
   "cell_type": "code",
   "execution_count": 62,
   "metadata": {},
   "outputs": [
    {
     "name": "stdout",
     "output_type": "stream",
     "text": [
      "https%3A//www.baidu.com/s%3Fwd%3D%E8%B4%B4%E5%90%A7\n"
     ]
    }
   ],
   "source": [
    "html03 = urllib.request.quote(\"https://www.baidu.com/s?wd=贴吧\")\n",
    "print(html03)"
   ]
  },
  {
   "cell_type": "code",
   "execution_count": 63,
   "metadata": {},
   "outputs": [
    {
     "name": "stdout",
     "output_type": "stream",
     "text": [
      "https://www.baidu.com/s?wd=贴吧\n"
     ]
    }
   ],
   "source": [
    "html04 = urllib.request.unquote(html03)\n",
    "print(html04)"
   ]
  },
  {
   "cell_type": "code",
   "execution_count": null,
   "metadata": {},
   "outputs": [],
   "source": []
  }
 ],
 "metadata": {
  "kernelspec": {
   "display_name": "Python 3",
   "language": "python",
   "name": "python3"
  },
  "language_info": {
   "codemirror_mode": {
    "name": "ipython",
    "version": 3
   },
   "file_extension": ".py",
   "mimetype": "text/x-python",
   "name": "python",
   "nbconvert_exporter": "python",
   "pygments_lexer": "ipython3",
   "version": "3.7.1"
  }
 },
 "nbformat": 4,
 "nbformat_minor": 2
}
